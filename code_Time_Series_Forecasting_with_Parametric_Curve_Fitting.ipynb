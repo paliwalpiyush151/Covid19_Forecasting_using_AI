{
  "nbformat": 4,
  "nbformat_minor": 0,
  "metadata": {
    "colab": {
      "provenance": [],
      "include_colab_link": true
    },
    "kernelspec": {
      "name": "python3",
      "display_name": "Python 3"
    }
  },
  "cells": [
    {
      "cell_type": "markdown",
      "metadata": {
        "id": "view-in-github",
        "colab_type": "text"
      },
      "source": [
        "<a href=\"https://colab.research.google.com/github/paliwalpiyush151/Covid19_Forecasting_using_AI/blob/main/code_Time_Series_Forecasting_with_Parametric_Curve_Fitting.ipynb\" target=\"_parent\"><img src=\"https://colab.research.google.com/assets/colab-badge.svg\" alt=\"Open In Colab\"/></a>"
      ]
    },
    {
      "cell_type": "code",
      "metadata": {
        "id": "z65HKwgEC5Wo",
        "outputId": "b2002b3a-5823-4dc3-fef6-f99caeb712a4",
        "colab": {
          "base_uri": "https://localhost:8080/",
          "height": 85
        }
      },
      "source": [
        "pip install tf-utils"
      ],
      "execution_count": null,
      "outputs": [
        {
          "output_type": "stream",
          "text": [
            "Collecting tf-utils\n",
            "  Downloading https://files.pythonhosted.org/packages/bb/bf/f6800f5d34c2563849a900abaa8e8fdb44e859f9a45e45c35afcfd77d742/tf_utils-1.0.4-py3-none-any.whl\n",
            "Installing collected packages: tf-utils\n",
            "Successfully installed tf-utils-1.0.4\n"
          ],
          "name": "stdout"
        }
      ]
    },
    {
      "cell_type": "code",
      "metadata": {
        "id": "hNNSadoy194M"
      },
      "source": [
        "import warnings\n",
        "warnings.filterwarnings(\"ignore\")\n",
        "from tf_utils import *\n",
        "\n",
        "import numpy as np\n",
        "import pandas as pd\n",
        "import matplotlib.pyplot as plt"
      ],
      "execution_count": null,
      "outputs": []
    },
    {
      "cell_type": "code",
      "metadata": {
        "id": "HFwx3_dq2DNx",
        "outputId": "1baa234a-5e3f-46d7-bb83-6e32d494b45e",
        "colab": {
          "base_uri": "https://localhost:8080/",
          "height": 253
        }
      },
      "source": [
        "dtf = pd.read_csv(\"https://raw.githubusercontent.com/CSSEGISandData/COVID-19/master/csse_covid_19_data/csse_covid_19_time_series/time_series_covid19_confirmed_global.csv\", sep=\",\")\n",
        "dtf.head()"
      ],
      "execution_count": null,
      "outputs": [
        {
          "output_type": "execute_result",
          "data": {
            "text/html": [
              "<div>\n",
              "<style scoped>\n",
              "    .dataframe tbody tr th:only-of-type {\n",
              "        vertical-align: middle;\n",
              "    }\n",
              "\n",
              "    .dataframe tbody tr th {\n",
              "        vertical-align: top;\n",
              "    }\n",
              "\n",
              "    .dataframe thead th {\n",
              "        text-align: right;\n",
              "    }\n",
              "</style>\n",
              "<table border=\"1\" class=\"dataframe\">\n",
              "  <thead>\n",
              "    <tr style=\"text-align: right;\">\n",
              "      <th></th>\n",
              "      <th>Province/State</th>\n",
              "      <th>Country/Region</th>\n",
              "      <th>Lat</th>\n",
              "      <th>Long</th>\n",
              "      <th>1/22/20</th>\n",
              "      <th>1/23/20</th>\n",
              "      <th>1/24/20</th>\n",
              "      <th>1/25/20</th>\n",
              "      <th>1/26/20</th>\n",
              "      <th>1/27/20</th>\n",
              "      <th>1/28/20</th>\n",
              "      <th>1/29/20</th>\n",
              "      <th>1/30/20</th>\n",
              "      <th>1/31/20</th>\n",
              "      <th>2/1/20</th>\n",
              "      <th>2/2/20</th>\n",
              "      <th>2/3/20</th>\n",
              "      <th>2/4/20</th>\n",
              "      <th>2/5/20</th>\n",
              "      <th>2/6/20</th>\n",
              "      <th>2/7/20</th>\n",
              "      <th>2/8/20</th>\n",
              "      <th>2/9/20</th>\n",
              "      <th>2/10/20</th>\n",
              "      <th>2/11/20</th>\n",
              "      <th>2/12/20</th>\n",
              "      <th>2/13/20</th>\n",
              "      <th>2/14/20</th>\n",
              "      <th>2/15/20</th>\n",
              "      <th>2/16/20</th>\n",
              "      <th>2/17/20</th>\n",
              "      <th>2/18/20</th>\n",
              "      <th>2/19/20</th>\n",
              "      <th>2/20/20</th>\n",
              "      <th>2/21/20</th>\n",
              "      <th>2/22/20</th>\n",
              "      <th>2/23/20</th>\n",
              "      <th>2/24/20</th>\n",
              "      <th>2/25/20</th>\n",
              "      <th>2/26/20</th>\n",
              "      <th>...</th>\n",
              "      <th>8/16/20</th>\n",
              "      <th>8/17/20</th>\n",
              "      <th>8/18/20</th>\n",
              "      <th>8/19/20</th>\n",
              "      <th>8/20/20</th>\n",
              "      <th>8/21/20</th>\n",
              "      <th>8/22/20</th>\n",
              "      <th>8/23/20</th>\n",
              "      <th>8/24/20</th>\n",
              "      <th>8/25/20</th>\n",
              "      <th>8/26/20</th>\n",
              "      <th>8/27/20</th>\n",
              "      <th>8/28/20</th>\n",
              "      <th>8/29/20</th>\n",
              "      <th>8/30/20</th>\n",
              "      <th>8/31/20</th>\n",
              "      <th>9/1/20</th>\n",
              "      <th>9/2/20</th>\n",
              "      <th>9/3/20</th>\n",
              "      <th>9/4/20</th>\n",
              "      <th>9/5/20</th>\n",
              "      <th>9/6/20</th>\n",
              "      <th>9/7/20</th>\n",
              "      <th>9/8/20</th>\n",
              "      <th>9/9/20</th>\n",
              "      <th>9/10/20</th>\n",
              "      <th>9/11/20</th>\n",
              "      <th>9/12/20</th>\n",
              "      <th>9/13/20</th>\n",
              "      <th>9/14/20</th>\n",
              "      <th>9/15/20</th>\n",
              "      <th>9/16/20</th>\n",
              "      <th>9/17/20</th>\n",
              "      <th>9/18/20</th>\n",
              "      <th>9/19/20</th>\n",
              "      <th>9/20/20</th>\n",
              "      <th>9/21/20</th>\n",
              "      <th>9/22/20</th>\n",
              "      <th>9/23/20</th>\n",
              "      <th>9/24/20</th>\n",
              "    </tr>\n",
              "  </thead>\n",
              "  <tbody>\n",
              "    <tr>\n",
              "      <th>0</th>\n",
              "      <td>NaN</td>\n",
              "      <td>Afghanistan</td>\n",
              "      <td>33.93911</td>\n",
              "      <td>67.709953</td>\n",
              "      <td>0</td>\n",
              "      <td>0</td>\n",
              "      <td>0</td>\n",
              "      <td>0</td>\n",
              "      <td>0</td>\n",
              "      <td>0</td>\n",
              "      <td>0</td>\n",
              "      <td>0</td>\n",
              "      <td>0</td>\n",
              "      <td>0</td>\n",
              "      <td>0</td>\n",
              "      <td>0</td>\n",
              "      <td>0</td>\n",
              "      <td>0</td>\n",
              "      <td>0</td>\n",
              "      <td>0</td>\n",
              "      <td>0</td>\n",
              "      <td>0</td>\n",
              "      <td>0</td>\n",
              "      <td>0</td>\n",
              "      <td>0</td>\n",
              "      <td>0</td>\n",
              "      <td>0</td>\n",
              "      <td>0</td>\n",
              "      <td>0</td>\n",
              "      <td>0</td>\n",
              "      <td>0</td>\n",
              "      <td>0</td>\n",
              "      <td>0</td>\n",
              "      <td>0</td>\n",
              "      <td>0</td>\n",
              "      <td>0</td>\n",
              "      <td>0</td>\n",
              "      <td>1</td>\n",
              "      <td>1</td>\n",
              "      <td>1</td>\n",
              "      <td>...</td>\n",
              "      <td>37596</td>\n",
              "      <td>37599</td>\n",
              "      <td>37599</td>\n",
              "      <td>37599</td>\n",
              "      <td>37856</td>\n",
              "      <td>37894</td>\n",
              "      <td>37953</td>\n",
              "      <td>37999</td>\n",
              "      <td>38054</td>\n",
              "      <td>38070</td>\n",
              "      <td>38113</td>\n",
              "      <td>38129</td>\n",
              "      <td>38140</td>\n",
              "      <td>38143</td>\n",
              "      <td>38162</td>\n",
              "      <td>38165</td>\n",
              "      <td>38196</td>\n",
              "      <td>38243</td>\n",
              "      <td>38288</td>\n",
              "      <td>38304</td>\n",
              "      <td>38324</td>\n",
              "      <td>38398</td>\n",
              "      <td>38494</td>\n",
              "      <td>38520</td>\n",
              "      <td>38544</td>\n",
              "      <td>38572</td>\n",
              "      <td>38606</td>\n",
              "      <td>38641</td>\n",
              "      <td>38716</td>\n",
              "      <td>38772</td>\n",
              "      <td>38815</td>\n",
              "      <td>38855</td>\n",
              "      <td>38872</td>\n",
              "      <td>38883</td>\n",
              "      <td>38919</td>\n",
              "      <td>39044</td>\n",
              "      <td>39074</td>\n",
              "      <td>39096</td>\n",
              "      <td>39145</td>\n",
              "      <td>39170</td>\n",
              "    </tr>\n",
              "    <tr>\n",
              "      <th>1</th>\n",
              "      <td>NaN</td>\n",
              "      <td>Albania</td>\n",
              "      <td>41.15330</td>\n",
              "      <td>20.168300</td>\n",
              "      <td>0</td>\n",
              "      <td>0</td>\n",
              "      <td>0</td>\n",
              "      <td>0</td>\n",
              "      <td>0</td>\n",
              "      <td>0</td>\n",
              "      <td>0</td>\n",
              "      <td>0</td>\n",
              "      <td>0</td>\n",
              "      <td>0</td>\n",
              "      <td>0</td>\n",
              "      <td>0</td>\n",
              "      <td>0</td>\n",
              "      <td>0</td>\n",
              "      <td>0</td>\n",
              "      <td>0</td>\n",
              "      <td>0</td>\n",
              "      <td>0</td>\n",
              "      <td>0</td>\n",
              "      <td>0</td>\n",
              "      <td>0</td>\n",
              "      <td>0</td>\n",
              "      <td>0</td>\n",
              "      <td>0</td>\n",
              "      <td>0</td>\n",
              "      <td>0</td>\n",
              "      <td>0</td>\n",
              "      <td>0</td>\n",
              "      <td>0</td>\n",
              "      <td>0</td>\n",
              "      <td>0</td>\n",
              "      <td>0</td>\n",
              "      <td>0</td>\n",
              "      <td>0</td>\n",
              "      <td>0</td>\n",
              "      <td>0</td>\n",
              "      <td>...</td>\n",
              "      <td>7380</td>\n",
              "      <td>7499</td>\n",
              "      <td>7654</td>\n",
              "      <td>7812</td>\n",
              "      <td>7967</td>\n",
              "      <td>8119</td>\n",
              "      <td>8275</td>\n",
              "      <td>8427</td>\n",
              "      <td>8605</td>\n",
              "      <td>8759</td>\n",
              "      <td>8927</td>\n",
              "      <td>9083</td>\n",
              "      <td>9195</td>\n",
              "      <td>9279</td>\n",
              "      <td>9380</td>\n",
              "      <td>9513</td>\n",
              "      <td>9606</td>\n",
              "      <td>9728</td>\n",
              "      <td>9844</td>\n",
              "      <td>9967</td>\n",
              "      <td>10102</td>\n",
              "      <td>10255</td>\n",
              "      <td>10406</td>\n",
              "      <td>10553</td>\n",
              "      <td>10704</td>\n",
              "      <td>10860</td>\n",
              "      <td>11021</td>\n",
              "      <td>11185</td>\n",
              "      <td>11353</td>\n",
              "      <td>11520</td>\n",
              "      <td>11672</td>\n",
              "      <td>11816</td>\n",
              "      <td>11948</td>\n",
              "      <td>12073</td>\n",
              "      <td>12226</td>\n",
              "      <td>12385</td>\n",
              "      <td>12535</td>\n",
              "      <td>12666</td>\n",
              "      <td>12787</td>\n",
              "      <td>12921</td>\n",
              "    </tr>\n",
              "    <tr>\n",
              "      <th>2</th>\n",
              "      <td>NaN</td>\n",
              "      <td>Algeria</td>\n",
              "      <td>28.03390</td>\n",
              "      <td>1.659600</td>\n",
              "      <td>0</td>\n",
              "      <td>0</td>\n",
              "      <td>0</td>\n",
              "      <td>0</td>\n",
              "      <td>0</td>\n",
              "      <td>0</td>\n",
              "      <td>0</td>\n",
              "      <td>0</td>\n",
              "      <td>0</td>\n",
              "      <td>0</td>\n",
              "      <td>0</td>\n",
              "      <td>0</td>\n",
              "      <td>0</td>\n",
              "      <td>0</td>\n",
              "      <td>0</td>\n",
              "      <td>0</td>\n",
              "      <td>0</td>\n",
              "      <td>0</td>\n",
              "      <td>0</td>\n",
              "      <td>0</td>\n",
              "      <td>0</td>\n",
              "      <td>0</td>\n",
              "      <td>0</td>\n",
              "      <td>0</td>\n",
              "      <td>0</td>\n",
              "      <td>0</td>\n",
              "      <td>0</td>\n",
              "      <td>0</td>\n",
              "      <td>0</td>\n",
              "      <td>0</td>\n",
              "      <td>0</td>\n",
              "      <td>0</td>\n",
              "      <td>0</td>\n",
              "      <td>0</td>\n",
              "      <td>1</td>\n",
              "      <td>1</td>\n",
              "      <td>...</td>\n",
              "      <td>38583</td>\n",
              "      <td>39025</td>\n",
              "      <td>39444</td>\n",
              "      <td>39847</td>\n",
              "      <td>40258</td>\n",
              "      <td>40667</td>\n",
              "      <td>41068</td>\n",
              "      <td>41460</td>\n",
              "      <td>41858</td>\n",
              "      <td>42228</td>\n",
              "      <td>42619</td>\n",
              "      <td>43016</td>\n",
              "      <td>43403</td>\n",
              "      <td>43781</td>\n",
              "      <td>44146</td>\n",
              "      <td>44494</td>\n",
              "      <td>44833</td>\n",
              "      <td>45158</td>\n",
              "      <td>45469</td>\n",
              "      <td>45773</td>\n",
              "      <td>46071</td>\n",
              "      <td>46364</td>\n",
              "      <td>46653</td>\n",
              "      <td>46938</td>\n",
              "      <td>47216</td>\n",
              "      <td>47488</td>\n",
              "      <td>47752</td>\n",
              "      <td>48007</td>\n",
              "      <td>48254</td>\n",
              "      <td>48496</td>\n",
              "      <td>48734</td>\n",
              "      <td>48966</td>\n",
              "      <td>49194</td>\n",
              "      <td>49413</td>\n",
              "      <td>49623</td>\n",
              "      <td>49826</td>\n",
              "      <td>50023</td>\n",
              "      <td>50214</td>\n",
              "      <td>50400</td>\n",
              "      <td>50579</td>\n",
              "    </tr>\n",
              "    <tr>\n",
              "      <th>3</th>\n",
              "      <td>NaN</td>\n",
              "      <td>Andorra</td>\n",
              "      <td>42.50630</td>\n",
              "      <td>1.521800</td>\n",
              "      <td>0</td>\n",
              "      <td>0</td>\n",
              "      <td>0</td>\n",
              "      <td>0</td>\n",
              "      <td>0</td>\n",
              "      <td>0</td>\n",
              "      <td>0</td>\n",
              "      <td>0</td>\n",
              "      <td>0</td>\n",
              "      <td>0</td>\n",
              "      <td>0</td>\n",
              "      <td>0</td>\n",
              "      <td>0</td>\n",
              "      <td>0</td>\n",
              "      <td>0</td>\n",
              "      <td>0</td>\n",
              "      <td>0</td>\n",
              "      <td>0</td>\n",
              "      <td>0</td>\n",
              "      <td>0</td>\n",
              "      <td>0</td>\n",
              "      <td>0</td>\n",
              "      <td>0</td>\n",
              "      <td>0</td>\n",
              "      <td>0</td>\n",
              "      <td>0</td>\n",
              "      <td>0</td>\n",
              "      <td>0</td>\n",
              "      <td>0</td>\n",
              "      <td>0</td>\n",
              "      <td>0</td>\n",
              "      <td>0</td>\n",
              "      <td>0</td>\n",
              "      <td>0</td>\n",
              "      <td>0</td>\n",
              "      <td>0</td>\n",
              "      <td>...</td>\n",
              "      <td>989</td>\n",
              "      <td>1005</td>\n",
              "      <td>1005</td>\n",
              "      <td>1024</td>\n",
              "      <td>1024</td>\n",
              "      <td>1045</td>\n",
              "      <td>1045</td>\n",
              "      <td>1045</td>\n",
              "      <td>1060</td>\n",
              "      <td>1060</td>\n",
              "      <td>1098</td>\n",
              "      <td>1098</td>\n",
              "      <td>1124</td>\n",
              "      <td>1124</td>\n",
              "      <td>1124</td>\n",
              "      <td>1176</td>\n",
              "      <td>1184</td>\n",
              "      <td>1199</td>\n",
              "      <td>1199</td>\n",
              "      <td>1215</td>\n",
              "      <td>1215</td>\n",
              "      <td>1215</td>\n",
              "      <td>1261</td>\n",
              "      <td>1261</td>\n",
              "      <td>1301</td>\n",
              "      <td>1301</td>\n",
              "      <td>1344</td>\n",
              "      <td>1344</td>\n",
              "      <td>1344</td>\n",
              "      <td>1438</td>\n",
              "      <td>1438</td>\n",
              "      <td>1483</td>\n",
              "      <td>1483</td>\n",
              "      <td>1564</td>\n",
              "      <td>1564</td>\n",
              "      <td>1564</td>\n",
              "      <td>1681</td>\n",
              "      <td>1681</td>\n",
              "      <td>1753</td>\n",
              "      <td>1753</td>\n",
              "    </tr>\n",
              "    <tr>\n",
              "      <th>4</th>\n",
              "      <td>NaN</td>\n",
              "      <td>Angola</td>\n",
              "      <td>-11.20270</td>\n",
              "      <td>17.873900</td>\n",
              "      <td>0</td>\n",
              "      <td>0</td>\n",
              "      <td>0</td>\n",
              "      <td>0</td>\n",
              "      <td>0</td>\n",
              "      <td>0</td>\n",
              "      <td>0</td>\n",
              "      <td>0</td>\n",
              "      <td>0</td>\n",
              "      <td>0</td>\n",
              "      <td>0</td>\n",
              "      <td>0</td>\n",
              "      <td>0</td>\n",
              "      <td>0</td>\n",
              "      <td>0</td>\n",
              "      <td>0</td>\n",
              "      <td>0</td>\n",
              "      <td>0</td>\n",
              "      <td>0</td>\n",
              "      <td>0</td>\n",
              "      <td>0</td>\n",
              "      <td>0</td>\n",
              "      <td>0</td>\n",
              "      <td>0</td>\n",
              "      <td>0</td>\n",
              "      <td>0</td>\n",
              "      <td>0</td>\n",
              "      <td>0</td>\n",
              "      <td>0</td>\n",
              "      <td>0</td>\n",
              "      <td>0</td>\n",
              "      <td>0</td>\n",
              "      <td>0</td>\n",
              "      <td>0</td>\n",
              "      <td>0</td>\n",
              "      <td>0</td>\n",
              "      <td>...</td>\n",
              "      <td>1906</td>\n",
              "      <td>1935</td>\n",
              "      <td>1966</td>\n",
              "      <td>2015</td>\n",
              "      <td>2044</td>\n",
              "      <td>2068</td>\n",
              "      <td>2134</td>\n",
              "      <td>2171</td>\n",
              "      <td>2222</td>\n",
              "      <td>2283</td>\n",
              "      <td>2332</td>\n",
              "      <td>2415</td>\n",
              "      <td>2471</td>\n",
              "      <td>2551</td>\n",
              "      <td>2624</td>\n",
              "      <td>2654</td>\n",
              "      <td>2729</td>\n",
              "      <td>2777</td>\n",
              "      <td>2805</td>\n",
              "      <td>2876</td>\n",
              "      <td>2935</td>\n",
              "      <td>2965</td>\n",
              "      <td>2981</td>\n",
              "      <td>3033</td>\n",
              "      <td>3092</td>\n",
              "      <td>3217</td>\n",
              "      <td>3279</td>\n",
              "      <td>3335</td>\n",
              "      <td>3388</td>\n",
              "      <td>3439</td>\n",
              "      <td>3569</td>\n",
              "      <td>3675</td>\n",
              "      <td>3789</td>\n",
              "      <td>3848</td>\n",
              "      <td>3901</td>\n",
              "      <td>3991</td>\n",
              "      <td>4117</td>\n",
              "      <td>4236</td>\n",
              "      <td>4363</td>\n",
              "      <td>4475</td>\n",
              "    </tr>\n",
              "  </tbody>\n",
              "</table>\n",
              "<p>5 rows × 251 columns</p>\n",
              "</div>"
            ],
            "text/plain": [
              "  Province/State Country/Region       Lat  ...  9/22/20  9/23/20  9/24/20\n",
              "0            NaN    Afghanistan  33.93911  ...    39096    39145    39170\n",
              "1            NaN        Albania  41.15330  ...    12666    12787    12921\n",
              "2            NaN        Algeria  28.03390  ...    50214    50400    50579\n",
              "3            NaN        Andorra  42.50630  ...     1681     1753     1753\n",
              "4            NaN         Angola -11.20270  ...     4236     4363     4475\n",
              "\n",
              "[5 rows x 251 columns]"
            ]
          },
          "metadata": {
            "tags": []
          },
          "execution_count": 3
        }
      ]
    },
    {
      "cell_type": "markdown",
      "metadata": {
        "id": "OZp1oa6zvSMv"
      },
      "source": [
        "# Curve fitting for **India**"
      ]
    },
    {
      "cell_type": "code",
      "metadata": {
        "id": "c4IqAmx53z7l"
      },
      "source": [
        "\n",
        "## groupby country\n",
        "dtf = dtf.drop(['Province/State','Lat','Long'], axis=1).groupby(\"Country/Region\").sum().T\n",
        "\n",
        "## convert index to datetime\n",
        "dtf.index = pd.to_datetime(dtf.index, infer_datetime_format=True)\n",
        "\n",
        "## create total cases column\n",
        "dtf = pd.DataFrame(index=dtf.index, data=dtf[\"India\"].values, columns=[\"total\"])\n",
        "\n",
        "## create daily changes column\n",
        "dtf[\"new\"] = dtf[\"total\"] - dtf[\"total\"].shift(1)\n",
        "dtf[\"new\"] = dtf[\"new\"].fillna(method='bfill')\n"
      ],
      "execution_count": null,
      "outputs": []
    },
    {
      "cell_type": "code",
      "metadata": {
        "id": "0XyPSDTJlT5c",
        "outputId": "f24c2208-5d4e-4c77-d9b2-5dd3d912d96a",
        "colab": {
          "base_uri": "https://localhost:8080/",
          "height": 359
        }
      },
      "source": [
        "dtf.tail(10)"
      ],
      "execution_count": null,
      "outputs": [
        {
          "output_type": "execute_result",
          "data": {
            "text/html": [
              "<div>\n",
              "<style scoped>\n",
              "    .dataframe tbody tr th:only-of-type {\n",
              "        vertical-align: middle;\n",
              "    }\n",
              "\n",
              "    .dataframe tbody tr th {\n",
              "        vertical-align: top;\n",
              "    }\n",
              "\n",
              "    .dataframe thead th {\n",
              "        text-align: right;\n",
              "    }\n",
              "</style>\n",
              "<table border=\"1\" class=\"dataframe\">\n",
              "  <thead>\n",
              "    <tr style=\"text-align: right;\">\n",
              "      <th></th>\n",
              "      <th>total</th>\n",
              "      <th>new</th>\n",
              "    </tr>\n",
              "  </thead>\n",
              "  <tbody>\n",
              "    <tr>\n",
              "      <th>2020-09-15</th>\n",
              "      <td>5020359</td>\n",
              "      <td>90123.0</td>\n",
              "    </tr>\n",
              "    <tr>\n",
              "      <th>2020-09-16</th>\n",
              "      <td>5118253</td>\n",
              "      <td>97894.0</td>\n",
              "    </tr>\n",
              "    <tr>\n",
              "      <th>2020-09-17</th>\n",
              "      <td>5214677</td>\n",
              "      <td>96424.0</td>\n",
              "    </tr>\n",
              "    <tr>\n",
              "      <th>2020-09-18</th>\n",
              "      <td>5308014</td>\n",
              "      <td>93337.0</td>\n",
              "    </tr>\n",
              "    <tr>\n",
              "      <th>2020-09-19</th>\n",
              "      <td>5400619</td>\n",
              "      <td>92605.0</td>\n",
              "    </tr>\n",
              "    <tr>\n",
              "      <th>2020-09-20</th>\n",
              "      <td>5487580</td>\n",
              "      <td>86961.0</td>\n",
              "    </tr>\n",
              "    <tr>\n",
              "      <th>2020-09-21</th>\n",
              "      <td>5562663</td>\n",
              "      <td>75083.0</td>\n",
              "    </tr>\n",
              "    <tr>\n",
              "      <th>2020-09-22</th>\n",
              "      <td>5562663</td>\n",
              "      <td>0.0</td>\n",
              "    </tr>\n",
              "    <tr>\n",
              "      <th>2020-09-23</th>\n",
              "      <td>5646010</td>\n",
              "      <td>83347.0</td>\n",
              "    </tr>\n",
              "    <tr>\n",
              "      <th>2020-09-24</th>\n",
              "      <td>5732518</td>\n",
              "      <td>86508.0</td>\n",
              "    </tr>\n",
              "  </tbody>\n",
              "</table>\n",
              "</div>"
            ],
            "text/plain": [
              "              total      new\n",
              "2020-09-15  5020359  90123.0\n",
              "2020-09-16  5118253  97894.0\n",
              "2020-09-17  5214677  96424.0\n",
              "2020-09-18  5308014  93337.0\n",
              "2020-09-19  5400619  92605.0\n",
              "2020-09-20  5487580  86961.0\n",
              "2020-09-21  5562663  75083.0\n",
              "2020-09-22  5562663      0.0\n",
              "2020-09-23  5646010  83347.0\n",
              "2020-09-24  5732518  86508.0"
            ]
          },
          "metadata": {
            "tags": []
          },
          "execution_count": 5
        }
      ]
    },
    {
      "cell_type": "code",
      "metadata": {
        "id": "9tPK2I0MJPpB",
        "outputId": "217f20c2-87a6-4c7b-eaac-a19375b6556f",
        "colab": {
          "base_uri": "https://localhost:8080/",
          "height": 444
        }
      },
      "source": [
        "fig, ax = plt.subplots(nrows=2, ncols=1, sharex=True, figsize=(13,7))\n",
        "ax[0].scatter(dtf.index, dtf[\"total\"].values, color=\"black\")\n",
        "ax[0].set(title=\"total cases\")\n",
        "ax[1].bar(dtf.index, dtf[\"new\"].values, color=\"black\")\n",
        "ax[1].set(title=\"new cases\")\n",
        "plt.show()"
      ],
      "execution_count": null,
      "outputs": [
        {
          "output_type": "display_data",
          "data": {
            "image/png": "[encoded data removed]",
            "text/plain": [
              "<Figure size 936x504 with 2 Axes>"
            ]
          },
          "metadata": {
            "tags": [],
            "needs_background": "light"
          }
        }
      ]
    },
    {
      "cell_type": "code",
      "metadata": {
        "id": "tXztrXr1Rru3"
      },
      "source": [
        "\n",
        "'''\n",
        "Linear function: f(x) = a + b*x\n",
        "'''\n",
        "def f(x):\n",
        "    return 10 + 2500*x\n",
        "\n",
        "y_linear = f(x=np.arange(len(dtf)))"
      ],
      "execution_count": null,
      "outputs": []
    },
    {
      "cell_type": "code",
      "metadata": {
        "id": "p3p2ifJcR80P"
      },
      "source": [
        "'''\n",
        "Exponential function: f(x) = a + b^x\n",
        "'''\n",
        "def f(x):\n",
        "    return 10 + 1.091**x\n",
        "\n",
        "y_exponential = f(x=np.arange(len(dtf)))"
      ],
      "execution_count": null,
      "outputs": []
    },
    {
      "cell_type": "code",
      "metadata": {
        "id": "j6QSTitOSCK-"
      },
      "source": [
        "'''\n",
        "Logistic function: f(x) = a / (1 + e^(-b*(x-c)))\n",
        "'''\n",
        "def f(x): \n",
        "    return 350000 / (1 + np.exp(-0.5*(x-20)))\n",
        "\n",
        "y_logistic = f(x=np.arange(len(dtf)))"
      ],
      "execution_count": null,
      "outputs": []
    },
    {
      "cell_type": "code",
      "metadata": {
        "id": "_4mjMVNiSIRw",
        "outputId": "d663d3cb-4018-44e0-da96-bad6eaa9be7e",
        "colab": {
          "base_uri": "https://localhost:8080/",
          "height": 331
        }
      },
      "source": [
        "fig, ax = plt.subplots(figsize=(13,5))\n",
        "ax.scatter(dtf[\"total\"].index, dtf[\"total\"].values, color=\"black\")\n",
        "ax.plot(dtf[\"total\"].index, y_linear, label=\"linear\", color=\"red\")\n",
        "ax.plot(dtf[\"total\"].index, y_exponential, label=\"exponential\", color=\"green\")\n",
        "ax.plot(dtf[\"total\"].index, y_logistic, label=\"logistic\", color=\"blue\")\n",
        "ax.legend()\n",
        "plt.show()"
      ],
      "execution_count": null,
      "outputs": [
        {
          "output_type": "display_data",
          "data": {
            "image/png": "[encoded data removed]",
            "text/plain": [
              "<Figure size 936x360 with 1 Axes>"
            ]
          },
          "metadata": {
            "tags": [],
            "needs_background": "light"
          }
        }
      ]
    },
    {
      "cell_type": "markdown",
      "metadata": {
        "id": "jDaHF1DIWzbh"
      },
      "source": [
        "#-> Data starts low and grows exponentially ... looks similar to a exponential function. But I know for fact that\n",
        "#   this phenomenon has an upper limit, because the virus can't infect more than the total population of the country.\n",
        "#   Therefore the logistic function is more appropriate to model this data."
      ]
    },
    {
      "cell_type": "code",
      "metadata": {
        "id": "U9LD61uxWuxb"
      },
      "source": [
        "'''\n",
        "Gaussian function: f(x) = a * e^(-0.5 * ((x-μ)/σ)**2)\n",
        "'''\n",
        "def f(x):\n",
        "    return 12000 * np.exp(-0.5 * ((x-145)/21)**2)\n",
        "\n",
        "y_gaussian = f(x=np.arange(len(dtf)))"
      ],
      "execution_count": null,
      "outputs": []
    },
    {
      "cell_type": "code",
      "metadata": {
        "id": "1OsFmYqmSqM1",
        "outputId": "f0eff9ad-7bc2-44e2-cb38-015f501d6702",
        "colab": {
          "base_uri": "https://localhost:8080/",
          "height": 320
        }
      },
      "source": [
        "fig, ax = plt.subplots(figsize=(13,5))\n",
        "ax.bar(dtf[\"new\"].index, dtf[\"new\"].values, color=\"black\")\n",
        "ax.plot(dtf[\"new\"].index, y_gaussian, color=\"red\")\n",
        "plt.show()"
      ],
      "execution_count": null,
      "outputs": [
        {
          "output_type": "display_data",
          "data": {
            "image/png": "[encoded data removed]",
            "text/plain": [
              "<Figure size 936x360 with 1 Axes>"
            ]
          },
          "metadata": {
            "tags": [],
            "needs_background": "light"
          }
        }
      ]
    },
    {
      "cell_type": "code",
      "metadata": {
        "id": "NvAwEcGJaAbX",
        "outputId": "654d95dc-ef67-4dff-9b6f-b372e134ac24",
        "colab": {
          "base_uri": "https://localhost:8080/",
          "height": 34
        }
      },
      "source": [
        "from scipy.optimize import curve_fit\n",
        "'''\n",
        "Logistic function: f(x) = capacity / (1 + e^-k*(x - midpoint) )\n",
        "'''\n",
        "def logistic_f(X, c, k, m):\n",
        "    y = c / (1 + np.exp(-k*(X-m)))\n",
        "    return y\n",
        "## optimize from scipy\n",
        "X=np.arange(len(dtf[\"total\"]))\n",
        "y=dtf[\"total\"].values\n",
        "logistic_model, cov = curve_fit(logistic_f,\n",
        "                                X, \n",
        "                               y , \n",
        "                                maxfev=10000,\n",
        "                                p0=[np.max(dtf[\"total\"]), 1, 1])\n",
        "## print the parameters\n",
        "logistic_model"
      ],
      "execution_count": null,
      "outputs": [
        {
          "output_type": "execute_result",
          "data": {
            "text/plain": [
              "array([8.96228840e+06, 3.74585919e-02, 2.30725176e+02])"
            ]
          },
          "metadata": {
            "tags": []
          },
          "execution_count": 13
        }
      ]
    },
    {
      "cell_type": "code",
      "metadata": {
        "id": "q4k2L3kkiwLT",
        "outputId": "420751ae-0c98-4a4f-abdd-aa8ec9c17d24",
        "colab": {
          "base_uri": "https://localhost:8080/",
          "height": 34
        }
      },
      "source": [
        "'''\n",
        "Gaussian function: f(x) = a * e^(-0.5 * ((x-μ)/σ)**2)\n",
        "'''\n",
        "def gaussian_f(X, a, b, c):\n",
        "    y_prime = a * np.exp(-0.5 * ((X-b)/c)**2)\n",
        "    return y_prime\n",
        "## optimize from scipy\n",
        "X1=np.arange(len(dtf[\"new\"]))\n",
        "y1=dtf[\"new\"].values\n",
        "gaussian_model, cov = curve_fit(gaussian_f,\n",
        "                                X1, \n",
        "                                y1, \n",
        "                                maxfev=10000,\n",
        "                                p0=[1,np.mean(dtf[\"new\"]),1])\n",
        "## print the parameters\n",
        "gaussian_model"
      ],
      "execution_count": null,
      "outputs": [
        {
          "output_type": "execute_result",
          "data": {
            "text/plain": [
              "array([1.00000000e+00, 2.32085749e+04, 1.00000000e+00])"
            ]
          },
          "metadata": {
            "tags": []
          },
          "execution_count": 14
        }
      ]
    },
    {
      "cell_type": "code",
      "metadata": {
        "id": "bHXMpZHCjTGS"
      },
      "source": [
        "'''\n",
        "Plot parametric fitting fuction.\n",
        "'''\n",
        "def utils_plot_parametric(dtf, zoom=30, figsize=(15,5)):\n",
        "    ## interval\n",
        "    dtf[\"residuals\"] = dtf[\"ts\"] - dtf[\"model\"]\n",
        "    dtf[\"conf_int_low\"] = dtf[\"forecast\"] - 1.96*dtf[\"residuals\"].std()\n",
        "    dtf[\"conf_int_up\"] = dtf[\"forecast\"] + 1.96*dtf[\"residuals\"].std()\n",
        "    fig, ax = plt.subplots(nrows=1, ncols=2, figsize=figsize)\n",
        "    \n",
        "    ## entire series\n",
        "    dtf[\"ts\"].plot(marker=\".\", linestyle='None', ax=ax[0], title=\"Parametric Fitting\", color=\"black\")\n",
        "    dtf[\"model\"].plot(ax=ax[0], color=\"green\")\n",
        "    dtf[\"forecast\"].plot(ax=ax[0], grid=True, color=\"red\")\n",
        "    ax[0].fill_between(x=dtf.index, y1=dtf['conf_int_low'], y2=dtf['conf_int_up'], color='b', alpha=0.3)\n",
        "   \n",
        "    ## focus on last\n",
        "    first_idx = dtf[pd.notnull(dtf[\"forecast\"])].index[0]\n",
        "    first_loc = dtf.index.tolist().index(first_idx)\n",
        "    zoom_idx = dtf.index[first_loc-zoom]\n",
        "    dtf.loc[zoom_idx:][\"ts\"].plot(marker=\".\", linestyle='None', ax=ax[1], color=\"black\", \n",
        "                                  title=\"Zoom on the last \"+str(zoom)+\" observations\")\n",
        "    dtf.loc[zoom_idx:][\"model\"].plot(ax=ax[1], color=\"green\")\n",
        "    dtf.loc[zoom_idx:][\"forecast\"].plot(ax=ax[1], grid=True, color=\"red\")\n",
        "    ax[1].fill_between(x=dtf.loc[zoom_idx:].index, y1=dtf.loc[zoom_idx:]['conf_int_low'], \n",
        "                       y2=dtf.loc[zoom_idx:]['conf_int_up'], color='b', alpha=0.3)\n",
        "    plt.show()\n",
        "    \n",
        "    return dtf[[\"ts\",\"model\",\"residuals\",\"conf_int_low\",\"forecast\",\"conf_int_up\"]]"
      ],
      "execution_count": null,
      "outputs": []
    },
    {
      "cell_type": "code",
      "metadata": {
        "id": "f7xGuHg_jVgZ"
      },
      "source": [
        "'''\n",
        "Forecast unknown future.\n",
        ":parameter\n",
        "    :param ts: pandas series\n",
        "    :param f: function\n",
        "    :param model: list of optim params\n",
        "    :param pred_ahead: number of observations to forecast (ex. pred_ahead=30)\n",
        "    :param freq: None or str - 'B' business day, 'D' daily, 'W' weekly, 'M' monthly, 'A' annual, 'Q' quarterly\n",
        "    :param zoom: for plotting\n",
        "'''\n",
        "def forecast_curve(ts, f, model, pred_ahead=None, freq=\"D\", zoom=30, figsize=(15,5)):\n",
        "    ## fit\n",
        "    X = np.arange(len(ts))\n",
        "    fitted = f(X, model[0], model[1], model[2])\n",
        "    dtf = ts.to_frame(name=\"ts\")\n",
        "    dtf[\"model\"] = fitted\n",
        "    \n",
        "    ## index\n",
        "    index = pd.date_range(start='2020-09-23',periods=pred_ahead,freq=freq)\n",
        "    index = index[1:]\n",
        "    ## forecast\n",
        "    Xnew = np.arange(len(ts)+1, len(ts)+1+len(index))\n",
        "    preds = f(Xnew, model[0], model[1], model[2])\n",
        "    dtf = dtf.append(pd.DataFrame(data=preds, index=index, columns=[\"forecast\"]))\n",
        "    \n",
        "    ## plot\n",
        "    utils_plot_parametric(dtf, zoom=zoom)\n",
        "    return dtf"
      ],
      "execution_count": null,
      "outputs": []
    },
    {
      "cell_type": "code",
      "metadata": {
        "id": "aVOLr8qvjcxl",
        "outputId": "170d32f6-c2c2-4c67-b45e-9295ccd29110",
        "colab": {
          "base_uri": "https://localhost:8080/",
          "height": 336
        }
      },
      "source": [
        "preds = forecast_curve(dtf[\"total\"], logistic_f, logistic_model, \n",
        "                       pred_ahead=30, freq=\"D\", zoom=7)"
      ],
      "execution_count": null,
      "outputs": [
        {
          "output_type": "display_data",
          "data": {
            "image/png": "[encoded data removed]",
            "text/plain": [
              "<Figure size 1080x360 with 2 Axes>"
            ]
          },
          "metadata": {
            "tags": [],
            "needs_background": "light"
          }
        }
      ]
    },
    {
      "cell_type": "code",
      "metadata": {
        "id": "53wUhtE3tN0q",
        "outputId": "035fe3fe-e03c-4c44-d096-34834c80641b",
        "colab": {
          "base_uri": "https://localhost:8080/",
          "height": 370
        }
      },
      "source": [
        "## Forecast\n",
        "preds = forecast_curve(dtf[\"new\"], gaussian_f, gaussian_model, pred_ahead=30,freq=\"D\", zoom=7, figsize=(15,5))"
      ],
      "execution_count": null,
      "outputs": [
        {
          "output_type": "display_data",
          "data": {
            "image/png": "[encoded data removed]",
            "text/plain": [
              "<Figure size 1080x360 with 2 Axes>"
            ]
          },
          "metadata": {
            "tags": [],
            "needs_background": "light"
          }
        }
      ]
    },
    {
      "cell_type": "markdown",
      "metadata": {
        "id": "8SPSbbxWJuf6"
      },
      "source": [
        "For some reason we are not getting good fit with gaussian function, I guess it's just the matter of parameter scaling."
      ]
    },
    {
      "cell_type": "markdown",
      "metadata": {
        "id": "LsacqXcFJ6hC"
      },
      "source": [
        "Trying with lmfit, if we can get the results."
      ]
    },
    {
      "cell_type": "code",
      "metadata": {
        "id": "zogj3etxEwib",
        "outputId": "3b918672-400e-40df-c58a-bd172822acc3",
        "colab": {
          "base_uri": "https://localhost:8080/",
          "height": 411
        }
      },
      "source": [
        "!pip install lmfit"
      ],
      "execution_count": null,
      "outputs": [
        {
          "output_type": "stream",
          "text": [
            "Collecting lmfit\n",
            "\u001b[?25l  Downloading https://files.pythonhosted.org/packages/d1/2e/9e4cdcebf93603ce57bc7577707ad56ed1282ae306f611e525612b9cfeea/lmfit-1.0.1.tar.gz (258kB)\n",
            "\u001b[K     |████████████████████████████████| 266kB 7.3MB/s \n",
            "\u001b[?25hCollecting asteval>=0.9.16\n",
            "\u001b[?25l  Downloading https://files.pythonhosted.org/packages/4d/35/140edd280047b77aef487a8840c0f60372ab15210eb8064e5de9b832730c/asteval-0.9.19.tar.gz (207kB)\n",
            "\u001b[K     |████████████████████████████████| 215kB 13.4MB/s \n",
            "\u001b[?25hRequirement already satisfied: numpy>=1.16 in /usr/local/lib/python3.6/dist-packages (from lmfit) (1.18.5)\n",
            "Requirement already satisfied: scipy>=1.2 in /usr/local/lib/python3.6/dist-packages (from lmfit) (1.4.1)\n",
            "Collecting uncertainties>=3.0.1\n",
            "\u001b[?25l  Downloading https://files.pythonhosted.org/packages/b0/e0/fc200da8190729dcb685ae4877ed6936d31d64aeccb8cc355d9ec982681d/uncertainties-3.1.4-py2.py3-none-any.whl (246kB)\n",
            "\u001b[K     |████████████████████████████████| 256kB 18.7MB/s \n",
            "\u001b[?25hRequirement already satisfied: future in /usr/local/lib/python3.6/dist-packages (from uncertainties>=3.0.1->lmfit) (0.16.0)\n",
            "Building wheels for collected packages: lmfit, asteval\n",
            "  Building wheel for lmfit (setup.py) ... \u001b[?25l\u001b[?25hdone\n",
            "  Created wheel for lmfit: filename=lmfit-1.0.1-cp36-none-any.whl size=81991 sha256=7cd287f5943420e36fc63f6b95756cfcd6e330c6fbaa2b6f2468c2b7fdbf219e\n",
            "  Stored in directory: /root/.cache/pip/wheels/ef/22/8d/6cd9c0af36f501cfb248673b05dad5d2c27504951d55519acb\n",
            "  Building wheel for asteval (setup.py) ... \u001b[?25l\u001b[?25hdone\n",
            "  Created wheel for asteval: filename=asteval-0.9.19-cp36-none-any.whl size=17486 sha256=c766dc63e86257b692c55bbbe1441d816c017f28c808a5713720cc86e730b25f\n",
            "  Stored in directory: /root/.cache/pip/wheels/59/da/bf/62853db4291f1c5f91326e32e4d1766b8cfcccd1c0e6eaf53f\n",
            "Successfully built lmfit asteval\n",
            "Installing collected packages: asteval, uncertainties, lmfit\n",
            "Successfully installed asteval-0.9.19 lmfit-1.0.1 uncertainties-3.1.4\n"
          ],
          "name": "stdout"
        }
      ]
    },
    {
      "cell_type": "code",
      "metadata": {
        "id": "BlSj3S_vD8gu",
        "outputId": "234d2cd9-e3d1-4d17-8c74-95526555a9cd",
        "colab": {
          "base_uri": "https://localhost:8080/",
          "height": 588
        }
      },
      "source": [
        "from lmfit import Model\n",
        "import math\n",
        "def gaussian(x, amp, cen, wid):\n",
        "    \"\"\"1-d gaussian: gaussian(x, amp, cen, wid)\"\"\"\n",
        "    return (amp / (math.sqrt(2*math.pi) * wid)) * np.exp(-(x-cen)**2 / (2*wid**2))\n",
        "\n",
        "\n",
        "gmodel = Model(gaussian)\n",
        "result = gmodel.fit(y1, x=X1, amp=1, cen=np.mean(dtf[\"new\"]), wid=1)\n",
        "\n",
        "print(result.fit_report())\n",
        "\n",
        "plt.plot(X1, y1, 'bo')\n",
        "plt.plot(X1, result.init_fit, 'k--', label='initial fit')\n",
        "plt.plot(X1, result.best_fit, 'r-', label='best fit')\n",
        "plt.legend(loc='best')\n",
        "plt.show()\n",
        "# <end examples/doc_model_gaussian.py>"
      ],
      "execution_count": null,
      "outputs": [
        {
          "output_type": "stream",
          "text": [
            "[[Model]]\n",
            "    Model(gaussian)\n",
            "[[Fit Statistics]]\n",
            "    # fitting method   = leastsq\n",
            "    # function evals   = 4\n",
            "    # data points      = 247\n",
            "    # variables        = 3\n",
            "    chi-square         = 3.6322e+11\n",
            "    reduced chi-square = 1.4886e+09\n",
            "    Akaike info crit   = 5219.89192\n",
            "    Bayesian info crit = 5230.42008\n",
            "##  Warning: uncertainties could not be estimated:\n",
            "    amp:  at initial value\n",
            "    cen:  at initial value\n",
            "    wid:  at initial value\n",
            "[[Variables]]\n",
            "    amp:  1.00000000 (init = 1)\n",
            "    cen:  23208.5749 (init = 23208.57)\n",
            "    wid:  1.00000000 (init = 1)\n"
          ],
          "name": "stdout"
        },
        {
          "output_type": "display_data",
          "data": {
            "image/png": "[encoded data removed]",
            "text/plain": [
              "<Figure size 432x288 with 1 Axes>"
            ]
          },
          "metadata": {
            "tags": [],
            "needs_background": "light"
          }
        }
      ]
    },
    {
      "cell_type": "markdown",
      "metadata": {
        "id": "Z3NABTGQw4yv"
      },
      "source": [
        "This happening because, data has not taken gaussian shape yet,so curve_fit as well lmfit may not be able to fit properly."
      ]
    }
  ]
}